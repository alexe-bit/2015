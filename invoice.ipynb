{
  "nbformat": 4,
  "nbformat_minor": 0,
  "metadata": {
    "colab": {
      "provenance": [],
      "authorship_tag": "ABX9TyPm7v5BRwNV0txe7eIpMcQF",
      "include_colab_link": true
    },
    "kernelspec": {
      "name": "python3",
      "display_name": "Python 3"
    },
    "language_info": {
      "name": "python"
    }
  },
  "cells": [
    {
      "cell_type": "markdown",
      "metadata": {
        "id": "view-in-github",
        "colab_type": "text"
      },
      "source": [
        "<a href=\"https://colab.research.google.com/github/alexe-bit/2015/blob/master/invoice.ipynb\" target=\"_parent\"><img src=\"https://colab.research.google.com/assets/colab-badge.svg\" alt=\"Open In Colab\"/></a>"
      ]
    },
    {
      "cell_type": "code",
      "source": [
        "!pip install PyQt5\n"
      ],
      "metadata": {
        "colab": {
          "base_uri": "https://localhost:8080/"
        },
        "id": "I4GoBAYFJNHy",
        "outputId": "7f31f7f1-35a2-44e2-89ed-7cb119863383"
      },
      "execution_count": 2,
      "outputs": [
        {
          "output_type": "stream",
          "name": "stdout",
          "text": [
            "Collecting PyQt5\n",
            "  Downloading PyQt5-5.15.11-cp38-abi3-manylinux_2_17_x86_64.whl.metadata (2.1 kB)\n",
            "Collecting PyQt5-sip<13,>=12.15 (from PyQt5)\n",
            "  Downloading PyQt5_sip-12.15.0-cp310-cp310-manylinux_2_5_x86_64.manylinux1_x86_64.whl.metadata (421 bytes)\n",
            "Collecting PyQt5-Qt5<5.16.0,>=5.15.2 (from PyQt5)\n",
            "  Downloading PyQt5_Qt5-5.15.14-py3-none-manylinux2014_x86_64.whl.metadata (536 bytes)\n",
            "Downloading PyQt5-5.15.11-cp38-abi3-manylinux_2_17_x86_64.whl (8.2 MB)\n",
            "\u001b[2K   \u001b[90m━━━━━━━━━━━━━━━━━━━━━━━━━━━━━━━━━━━━━━━━\u001b[0m \u001b[32m8.2/8.2 MB\u001b[0m \u001b[31m18.0 MB/s\u001b[0m eta \u001b[36m0:00:00\u001b[0m\n",
            "\u001b[?25hDownloading PyQt5_Qt5-5.15.14-py3-none-manylinux2014_x86_64.whl (60.5 MB)\n",
            "\u001b[2K   \u001b[90m━━━━━━━━━━━━━━━━━━━━━━━━━━━━━━━━━━━━━━━━\u001b[0m \u001b[32m60.5/60.5 MB\u001b[0m \u001b[31m9.9 MB/s\u001b[0m eta \u001b[36m0:00:00\u001b[0m\n",
            "\u001b[?25hDownloading PyQt5_sip-12.15.0-cp310-cp310-manylinux_2_5_x86_64.manylinux1_x86_64.whl (270 kB)\n",
            "\u001b[2K   \u001b[90m━━━━━━━━━━━━━━━━━━━━━━━━━━━━━━━━━━━━━━━━\u001b[0m \u001b[32m270.5/270.5 kB\u001b[0m \u001b[31m18.6 MB/s\u001b[0m eta \u001b[36m0:00:00\u001b[0m\n",
            "\u001b[?25hInstalling collected packages: PyQt5-Qt5, PyQt5-sip, PyQt5\n",
            "Successfully installed PyQt5-5.15.11 PyQt5-Qt5-5.15.14 PyQt5-sip-12.15.0\n"
          ]
        }
      ]
    },
    {
      "cell_type": "code",
      "source": [
        "!pip install reportlab"
      ],
      "metadata": {
        "colab": {
          "base_uri": "https://localhost:8080/"
        },
        "id": "oI_EJCG8JfjQ",
        "outputId": "0571537f-57af-4414-9cbd-4a535b0050a9"
      },
      "execution_count": 4,
      "outputs": [
        {
          "output_type": "stream",
          "name": "stdout",
          "text": [
            "Collecting reportlab\n",
            "  Downloading reportlab-4.2.2-py3-none-any.whl.metadata (1.4 kB)\n",
            "Requirement already satisfied: pillow>=9.0.0 in /usr/local/lib/python3.10/dist-packages (from reportlab) (9.4.0)\n",
            "Requirement already satisfied: chardet in /usr/local/lib/python3.10/dist-packages (from reportlab) (5.2.0)\n",
            "Downloading reportlab-4.2.2-py3-none-any.whl (1.9 MB)\n",
            "\u001b[2K   \u001b[90m━━━━━━━━━━━━━━━━━━━━━━━━━━━━━━━━━━━━━━━━\u001b[0m \u001b[32m1.9/1.9 MB\u001b[0m \u001b[31m7.1 MB/s\u001b[0m eta \u001b[36m0:00:00\u001b[0m\n",
            "\u001b[?25hInstalling collected packages: reportlab\n",
            "Successfully installed reportlab-4.2.2\n"
          ]
        }
      ]
    },
    {
      "cell_type": "code",
      "execution_count": 5,
      "metadata": {
        "id": "Z490wpTwsZX7"
      },
      "outputs": [],
      "source": [
        "import sys\n",
        "from PyQt5.QtWidgets import QApplication, QMainWindow, QWidget, QVBoxLayout, QHBoxLayout, QLabel, QLineEdit, QTextEdit, QPushButton, QComboBox, QTableWidget, QTableWidgetItem, QFileDialog, QMessageBox\n",
        "from PyQt5.QtCore import Qt\n",
        "from PyQt5.QtGui import QFont\n",
        "import smtplib\n",
        "from email.mime.text import MIMEText\n",
        "from email.mime.multipart import MIMEMultipart\n",
        "from email.mime.application import MIMEApplication\n",
        "import csv\n",
        "from datetime import datetime\n",
        "import os\n",
        "from reportlab.lib import colors\n",
        "from reportlab.lib.pagesizes import letter\n",
        "from reportlab.platypus import SimpleDocTemplate, Table, TableStyle, Paragraph, Spacer\n",
        "from reportlab.lib.styles import getSampleStyleSheet"
      ]
    },
    {
      "cell_type": "code",
      "source": [
        "class InvoiceSoftware(QMainWindow):\n",
        "    def __init__(self):\n",
        "        super().__init__()\n",
        "        self.setWindowTitle(\"Lubricant Invoice Software\")\n",
        "        self.setGeometry(100, 100, 800, 600)\n",
        "\n",
        "        self.central_widget = QWidget()\n",
        "        self.setCentralWidget(self.central_widget)\n",
        "        self.layout = QVBoxLayout(self.central_widget)\n",
        "        self.setup_ui()\n",
        "\n",
        "    def setup_ui(self):\n",
        "      # company information\n",
        "      self.company_name = QLineEdit()\n",
        "      self.company_name.setPlaceholderText(\"Company Name\")\n",
        "      self.layout.addWidget(self.company_name)\n",
        "\n",
        "      self.company_address = QLineEdit()\n",
        "      self.company_address.setPlaceholderText(\"Company Address\")\n",
        "      self.layout.addWidget(self.company_address)\n",
        "\n",
        "      # customer information\n",
        "      self.customer_name = QLineEdit()\n",
        "      self.customer_name.setPlaceholderText(\"Customer Name\")\n",
        "      self.layout.addWidget(self.customer_name)\n",
        "\n",
        "      self.customer_address = QLineEdit()\n",
        "      self.customer_address.setPlaceholderText(\"Customer Address\")\n",
        "      self.layout.addWidget(self.customer_address)\n",
        "\n",
        "      #invoice details\n",
        "      self.invoice_number = QLineEdit()\n",
        "      self.invoice_number.setPlaceholderText(\"Invoice Number\")\n",
        "      self.layout.addWidget(self.invoice_number)\n",
        "\n",
        "      self.invoice_date = QLineEdit()\n",
        "      self.invoice_date.setPlaceholderText(\"Invoice Date (YYYY-MM-DD)\")\n",
        "      self.invoice_date.setText(datetime.now().strftime(\"%Y-%m-%d\")\n",
        "      self.layout.addWidget(self.invoice_date)\n",
        "\n",
        "      # Product table\n",
        "      self.product_table = QTableWidget(1,4)\n",
        "      self.product_table.setHorizontalHeaderLabels([\"Product\", \"Quantity\", \"Price\", \"Total\"])\n",
        "      self.product_table.cellChanged.connect(self.update_total)\n",
        "      self.layout.addWidget(self.product_table)\n",
        "\n",
        "      # Add row button\n",
        "      self.add_row_button = QPushButton(\"Add Row\")\n",
        "      self.add_row_button.clicked.connect(self.add_row)\n",
        "      self.layout.addWidget(self.add_row_button)\n",
        "\n",
        "      # Total amount\n",
        "      self.total_amount = QLineEdit()\n",
        "      self.total_amount.setplaceholderText(\"Total Amount\")\n",
        "      self.total_amount.setReadOnly(True)\n",
        "      self.layout.addWidget(self.total_amount)\n",
        "\n",
        "      # buttons\n",
        "      button_layout = QHBoxLayout()\n",
        "      self.create_invoice_button = QPushButton(\"Create Invoice\")\n",
        "      self.create_invoice.addWidget(self.create_invoice_button)\n",
        "\n",
        "      self.email_invoice_button = QPushButton(\"Email Invoice\")\n",
        "      self.email_invoice_button.clicked.connect(self.email_invoice)\n",
        "      self.layout.addWidget(self.email_invoice_button)\n",
        "\n",
        "      self.layout.addLayout(button_layout)\n",
        "\n",
        "\n",
        "\n",
        "\n",
        "\n",
        "\n",
        "\n"
      ],
      "metadata": {
        "id": "5PACb1pzdiLZ"
      },
      "execution_count": 6,
      "outputs": []
    },
    {
      "cell_type": "code",
      "source": [
        "def setup_ui(self):"
      ],
      "metadata": {
        "id": "bwXgzk8PdraV",
        "colab": {
          "base_uri": "https://localhost:8080/",
          "height": 106
        },
        "outputId": "479b7ef8-0df7-4826-99cb-e04adb6bb1fd"
      },
      "execution_count": 9,
      "outputs": [
        {
          "output_type": "error",
          "ename": "SyntaxError",
          "evalue": "incomplete input (<ipython-input-9-bb71637e1bf5>, line 1)",
          "traceback": [
            "\u001b[0;36m  File \u001b[0;32m\"<ipython-input-9-bb71637e1bf5>\"\u001b[0;36m, line \u001b[0;32m1\u001b[0m\n\u001b[0;31m    def setup_ui(self):\u001b[0m\n\u001b[0m                       ^\u001b[0m\n\u001b[0;31mSyntaxError\u001b[0m\u001b[0;31m:\u001b[0m incomplete input\n"
          ]
        }
      ]
    },
    {
      "cell_type": "code",
      "source": [],
      "metadata": {
        "id": "zn4ihN7FKF00"
      },
      "execution_count": null,
      "outputs": []
    }
  ]
}